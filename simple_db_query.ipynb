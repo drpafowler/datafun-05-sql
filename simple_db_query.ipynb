{
 "cells": [
  {
   "cell_type": "code",
   "execution_count": 3,
   "metadata": {},
   "outputs": [
    {
     "name": "stdout",
     "output_type": "stream",
     "text": [
      "authors\n",
      "books\n"
     ]
    }
   ],
   "source": [
    "import sqlite3\n",
    "import pandas as pd\n",
    "\n",
    "# Connect to the SQLite database\n",
    "conn = sqlite3.connect('project.db')\n",
    "\n",
    "# Write the SQL query to list all tables\n",
    "query = \"SELECT name FROM sqlite_master WHERE type='table';\"\n",
    "\n",
    "# Execute the query and fetch the results\n",
    "cursor = conn.cursor()\n",
    "cursor.execute(query)\n",
    "tables = cursor.fetchall()\n",
    "\n",
    "# Print the list of tables\n",
    "for table in tables:\n",
    "    print(table[0])\n",
    "\n",
    "# Close the connection\n",
    "conn.close()"
   ]
  },
  {
   "cell_type": "code",
   "execution_count": 4,
   "metadata": {},
   "outputs": [
    {
     "name": "stdout",
     "output_type": "stream",
     "text": [
      "                              author_id     first        last\n",
      "0  10f88232-1ae7-4d88-a6a2-dfcebb22a596    Harper         Lee\n",
      "1  c3a47e85-2a6b-4196-a7a8-8b55d8fc1f70    George      Orwell\n",
      "2  e0b75863-866d-4db4-85c7-df9bb8ee6dab  F. Scott  Fitzgerald\n",
      "3  7b144e32-7ff4-4b58-8eb0-e63d3c9f9b8d    Aldous      Huxley\n",
      "4  8d8107b6-1f24-481c-8a21-7d72b13b59b5      J.D.    Salinger\n",
      "5  0cc3c8e4-e0c0-482f-b2f7-af87330de214       Ray    Bradbury\n",
      "6  4dca0632-2c53-490c-99d5-4f6d41e56c0e      Jane      Austen\n",
      "7  16f3e0a1-24cb-4ed6-a50d-509f63e367f7    J.R.R.     Tolkien\n",
      "8  06cf58ab-90f1-448d-8e54-055e4393e75c    J.R.R.     Tolkien\n",
      "9  6b693b96-394a-4a1d-a4e2-792a47d7a568      J.K.     Rowling\n"
     ]
    }
   ],
   "source": [
    "conn = sqlite3.connect('project.db')\n",
    "\n",
    "query = \"SELECT * FROM authors\"\n",
    "\n",
    "df = pd.read_sql_query(query, conn)\n",
    "\n",
    "print(df)\n",
    "\n",
    "conn.close()"
   ]
  },
  {
   "cell_type": "code",
   "execution_count": 6,
   "metadata": {},
   "outputs": [
    {
     "name": "stdout",
     "output_type": "stream",
     "text": [
      "                                book_id  \\\n",
      "0  d6f83870-ff21-4a5d-90ab-26a49ab6ed12   \n",
      "1  0f5f44f7-44d8-4f49-b8c4-c64d847587d3   \n",
      "2  f9d9e7de-c44d-4d1d-b3ab-59343bf32bc2   \n",
      "3  38e530f1-228f-4d6e-a587-2ed4d6c44e9c   \n",
      "4  c2a62a4b-cf5c-4246-9bf7-b2601d542e6d   \n",
      "5  3a1d835c-1e15-4a48-8e8c-b12239604e98   \n",
      "6  c6e67918-e509-4a6b-bc3a-979f6ad802f0   \n",
      "7  be951205-6cc2-4b3d-96f1-7257b8fc8c0f   \n",
      "8  dce0f8f2-d3ed-48a9-b8ff-960b6baf1f6f   \n",
      "9  ca8e64c3-1e67-47f5-82cc-3e4e30f63b75   \n",
      "\n",
      "                                      title  year_published  \\\n",
      "0                     To Kill a Mockingbird            1960   \n",
      "1                                      1984            1949   \n",
      "2                          The Great Gatsby            1925   \n",
      "3                           Brave New World            1932   \n",
      "4                    The Catcher in the Rye            1951   \n",
      "5                            Fahrenheit 451            1953   \n",
      "6                       Pride and Prejudice            1813   \n",
      "7                                The Hobbit            1937   \n",
      "8                     The Lord of the Rings            1954   \n",
      "9  Harry Potter and the Philosopher's Stone            1997   \n",
      "\n",
      "                              author_id  \n",
      "0  10f88232-1ae7-4d88-a6a2-dfcebb22a596  \n",
      "1  c3a47e85-2a6b-4196-a7a8-8b55d8fc1f70  \n",
      "2  e0b75863-866d-4db4-85c7-df9bb8ee6dab  \n",
      "3  7b144e32-7ff4-4b58-8eb0-e63d3c9f9b8d  \n",
      "4  8d8107b6-1f24-481c-8a21-7d72b13b59b5  \n",
      "5  0cc3c8e4-e0c0-482f-b2f7-af87330de214  \n",
      "6  4dca0632-2c53-490c-99d5-4f6d41e56c0e  \n",
      "7  16f3e0a1-24cb-4ed6-a50d-509f63e367f7  \n",
      "8  06cf58ab-90f1-448d-8e54-055e4393e75c  \n",
      "9  6b693b96-394a-4a1d-a4e2-792a47d7a568  \n"
     ]
    }
   ],
   "source": [
    "# Connect to the SQLite database\n",
    "conn = sqlite3.connect('project.db')\n",
    "\n",
    "# Write the SQL query\n",
    "query = \"SELECT * FROM books\"\n",
    "\n",
    "# Execute the query and load the data into a DataFrame\n",
    "df = pd.read_sql_query(query, conn)\n",
    "\n",
    "# Display the DataFrame\n",
    "print(df)\n",
    "\n",
    "# Close the connection\n",
    "conn.close()"
   ]
  }
 ],
 "metadata": {
  "kernelspec": {
   "display_name": ".venv",
   "language": "python",
   "name": "python3"
  },
  "language_info": {
   "codemirror_mode": {
    "name": "ipython",
    "version": 3
   },
   "file_extension": ".py",
   "mimetype": "text/x-python",
   "name": "python",
   "nbconvert_exporter": "python",
   "pygments_lexer": "ipython3",
   "version": "3.12.5"
  }
 },
 "nbformat": 4,
 "nbformat_minor": 2
}
